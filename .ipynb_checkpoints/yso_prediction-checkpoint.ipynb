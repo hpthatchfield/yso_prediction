{
 "cells": [
  {
   "cell_type": "code",
   "execution_count": 52,
   "id": "3acfed18-5cd9-4b21-a877-2d7ecf6a5cf4",
   "metadata": {},
   "outputs": [],
   "source": [
    "import numpy as np\n",
    "import matplotlib.pyplot as plt\n",
    "import cmasher as cm\n",
    "import torch \n",
    "from astropy.io import fits\n"
   ]
  },
  {
   "cell_type": "code",
   "execution_count": 53,
   "id": "4a68628c-d0b6-4246-a574-b803b930e6dc",
   "metadata": {},
   "outputs": [
    {
     "name": "stdout",
     "output_type": "stream",
     "text": [
      "Requirement already satisfied: astropy in /opt/anaconda3/envs/sklearn-env/lib/python3.11/site-packages (7.0.1)\n",
      "Requirement already satisfied: regions in /opt/anaconda3/envs/sklearn-env/lib/python3.11/site-packages (0.10)\n",
      "Requirement already satisfied: numpy>=1.23.2 in /opt/anaconda3/envs/sklearn-env/lib/python3.11/site-packages (from astropy) (1.26.4)\n",
      "Requirement already satisfied: pyerfa>=2.0.1.1 in /opt/anaconda3/envs/sklearn-env/lib/python3.11/site-packages (from astropy) (2.0.1.5)\n",
      "Requirement already satisfied: astropy-iers-data>=0.2025.1.31.12.41.4 in /opt/anaconda3/envs/sklearn-env/lib/python3.11/site-packages (from astropy) (0.2025.3.3.0.34.45)\n",
      "Requirement already satisfied: PyYAML>=6.0.0 in /opt/anaconda3/envs/sklearn-env/lib/python3.11/site-packages (from astropy) (6.0.2)\n",
      "Requirement already satisfied: packaging>=22.0.0 in /opt/anaconda3/envs/sklearn-env/lib/python3.11/site-packages (from astropy) (24.2)\n"
     ]
    }
   ],
   "source": [
    "!pip install astropy regions"
   ]
  },
  {
   "cell_type": "code",
   "execution_count": 54,
   "id": "ce3f1de5-4a8f-49e2-a6ce-75652d47b742",
   "metadata": {},
   "outputs": [
    {
     "name": "stdout",
     "output_type": "stream",
     "text": [
      "(2800, 19000)\n"
     ]
    }
   ],
   "source": [
    "### Loading in the data as 2d arrays from FITS files using astropy utility\n",
    "\n",
    "\n",
    "### WISE mosaics: \n",
    "wise_path = \"/Users/hph/Dropbox/astrophys/IGNITES/data/IGNITES_regrid_reconvolve/wise_mosaics/\"\n",
    "wise_3um_data = fits.open(wise_path+'mosaic_3um_reprojected_to_500um.fits')[0].data\n",
    "wise_5um_data = fits.open(wise_path+'mosaic_5um_reprojected_to_500um.fits')[0].data\n",
    "wise_12um_data = fits.open(wise_path+'mosaic_12um_reprojected_to_500um.fits')[0].data\n",
    "wise_22um_data = fits.open(wise_path+'mosaic_22um_reprojected_to_500um.fits')[0].data\n",
    "\n",
    "\n",
    "### Other mosaic data path:\n",
    "ignites_path = \"/Users/hph/Dropbox/astrophys/IGNITES/data/IGNITES_regrid_reconvolve/\"\n",
    "\n",
    "### Spitzer mosaics:\n",
    "spitzer_8um_data = fits.open(ignites_path+\"mosaic_8um_reprojected_to_500um.fits\")[0].data\n",
    "spitzer_24um_data = fits.open(ignites_path+\"mosaic_24um_reprojected_to_500um.fits\")[0].data\n",
    "\n",
    "### Herschel mosaics:\n",
    "herschel_70um_data = fits.open(ignites_path+\"mosaic_70um_reprojected_to_500um.fits\")[0].data\n",
    "herschel_160um_data = fits.open(ignites_path+\"mosaic_160um_reprojected_to_500um.fits\")[0].data\n",
    "herschel_250um_data = fits.open(ignites_path+\"mosaic_250um_reprojected_to_500um.fits\")[0].data\n",
    "herschel_500um_data = fits.open(ignites_path+\"mosaic_500um_reprojected_to_500um.fits\")[0].data\n",
    "\n",
    "image_shape = spitzer_8um_data.shape\n",
    "print(spitzer_8um_data.shape)\n"
   ]
  },
  {
   "cell_type": "code",
   "execution_count": 55,
   "id": "5edebfb4-42e1-4341-aa12-f343265067df",
   "metadata": {},
   "outputs": [],
   "source": [
    "import numpy as np\n",
    "\n",
    "def normalize_flux(data):\n",
    "    \"\"\"\n",
    "    Normalize an image while preserving astrophysical structures.\n",
    "\n",
    "    Parameters:\n",
    "    - data (numpy.ndarray): A 2D array  \n",
    "      where each slice represents a flux map in a different wavelength band.\n",
    "\n",
    "    Returns:\n",
    "    - normalized_cube (numpy.ndarray): The normalized image cube.\n",
    "    \"\"\"\n",
    "\n",
    "    ### Apply log scaling to preserve dynamic range during normalization\n",
    "    ### Adding 1 to avoid log(0) issues, as flux values may include zeroes\n",
    "    log_data = np.log1p(data)  \n",
    "\n",
    "    ### Compute the mean and standard deviation of the data\n",
    "    ### This ensures that different wavelengths are treated comparably (should we do this)\n",
    "    mean_data = np.mean(log_data)\n",
    "    std_data = np.std(log_data) \n",
    "\n",
    "    ### Z-score normalization\n",
    "    ### This standardizes the log-transformed flux values to have mean=0 and std=1 per band\n",
    "    normalized_data = (log_data - mean_data) / std_data\n",
    "\n",
    "    return normalized_data\n",
    "\n"
   ]
  },
  {
   "cell_type": "code",
   "execution_count": 59,
   "id": "cf81fbf6-11e8-4b79-8e40-016e8b2bf54f",
   "metadata": {},
   "outputs": [],
   "source": [
    "import numpy as np\n",
    "from astropy.io import fits\n",
    "from astropy.wcs import WCS\n",
    "from regions import Regions, PixCoord, EllipsePixelRegion\n",
    "\n",
    "def ds9_to_mask(ds9_file, fits_header, image_shape):\n",
    "    \"\"\"\n",
    "    Convert a DS9 region file into a binary mask matching the image shape.\n",
    "\n",
    "    Parameters:\n",
    "    - ds9_file (str): Path to the DS9 region file containing YSO or point source locations.\n",
    "    - fits_header (astropy.io.fits.Header): The FITS header with WCS information.\n",
    "    - image_shape (tuple): Shape of the image (height, width).\n",
    "\n",
    "    Returns:\n",
    "    - mask (numpy.ndarray): Binary mask of the same shape as the image, with 1s at source locations.\n",
    "    \"\"\"\n",
    "\n",
    "    # Read DS9 region file using updated method\n",
    "    regions = Regions.read(ds9_file, format=\"ds9\")\n",
    "\n",
    "    # Convert WCS from header\n",
    "    wcs = WCS(fits_header)\n",
    "\n",
    "    # Initialize mask\n",
    "    mask = np.zeros(image_shape, dtype=np.uint8)\n",
    "\n",
    "    for region in regions:\n",
    "        if hasattr(region, 'center'):\n",
    "            # Convert world coordinates to pixel coordinates\n",
    "            pix_center = wcs.world_to_pixel(region.center)\n",
    "            pix_radius = 20\n",
    "\n",
    "            # Ensure pixel coordinates are within the image bounds\n",
    "            if 0 <= pix_center[0] < image_shape[1] and 0 <= pix_center[1] < image_shape[0]:\n",
    "                # Create an elliptical mask\n",
    "                ellipse = EllipsePixelRegion(PixCoord(*pix_center), pix_radius, pix_radius)\n",
    "                print(np.where(ellipse.to_mask().to_image(image_shape)))\n",
    "                mask |= ellipse.to_mask().to_image(image_shape)  # Overlay mask\n",
    "\n",
    "    return mask\n",
    "\n"
   ]
  },
  {
   "cell_type": "code",
   "execution_count": 60,
   "id": "0cdce929-1a9c-4d1d-aa9a-9ae0bfb822af",
   "metadata": {},
   "outputs": [
    {
     "name": "stdout",
     "output_type": "stream",
     "text": [
      "(array([103, 103, 103, 103, 103, 103, 103, 103, 104, 104, 104, 104, 104,\n",
      "       104, 104, 104, 104, 104, 104, 104, 105, 105, 105, 105, 105, 105,\n",
      "       105, 105, 105, 105, 105, 105, 105, 105, 106, 106, 106, 106, 106,\n",
      "       106, 106, 106, 106, 106, 106, 106, 106, 106, 106, 106, 107, 107,\n",
      "       107, 107, 107, 107, 107, 107, 107, 107, 107, 107, 107, 107, 107,\n",
      "       107, 107, 107, 108, 108, 108, 108, 108, 108, 108, 108, 108, 108,\n",
      "       108, 108, 108, 108, 108, 108, 108, 108, 109, 109, 109, 109, 109,\n",
      "       109, 109, 109, 109, 109, 109, 109, 109, 109, 109, 109, 109, 109,\n",
      "       109, 110, 110, 110, 110, 110, 110, 110, 110, 110, 110, 110, 110,\n",
      "       110, 110, 110, 110, 110, 110, 110, 110, 111, 111, 111, 111, 111,\n",
      "       111, 111, 111, 111, 111, 111, 111, 111, 111, 111, 111, 111, 111,\n",
      "       111, 111, 112, 112, 112, 112, 112, 112, 112, 112, 112, 112, 112,\n",
      "       112, 112, 112, 112, 112, 112, 112, 112, 112, 113, 113, 113, 113,\n",
      "       113, 113, 113, 113, 113, 113, 113, 113, 113, 113, 113, 113, 113,\n",
      "       113, 113, 113, 114, 114, 114, 114, 114, 114, 114, 114, 114, 114,\n",
      "       114, 114, 114, 114, 114, 114, 114, 114, 114, 114, 115, 115, 115,\n",
      "       115, 115, 115, 115, 115, 115, 115, 115, 115, 115, 115, 115, 115,\n",
      "       115, 115, 115, 115, 116, 116, 116, 116, 116, 116, 116, 116, 116,\n",
      "       116, 116, 116, 116, 116, 116, 116, 116, 116, 117, 117, 117, 117,\n",
      "       117, 117, 117, 117, 117, 117, 117, 117, 117, 117, 117, 117, 117,\n",
      "       117, 118, 118, 118, 118, 118, 118, 118, 118, 118, 118, 118, 118,\n",
      "       118, 118, 118, 118, 119, 119, 119, 119, 119, 119, 119, 119, 119,\n",
      "       119, 119, 119, 119, 119, 120, 120, 120, 120, 120, 120, 120, 120,\n",
      "       120, 120, 120, 120, 121, 121, 121, 121, 121, 121, 121, 121, 122,\n",
      "       122]), array([18948, 18949, 18950, 18951, 18952, 18953, 18954, 18955, 18946,\n",
      "       18947, 18948, 18949, 18950, 18951, 18952, 18953, 18954, 18955,\n",
      "       18956, 18957, 18945, 18946, 18947, 18948, 18949, 18950, 18951,\n",
      "       18952, 18953, 18954, 18955, 18956, 18957, 18958, 18944, 18945,\n",
      "       18946, 18947, 18948, 18949, 18950, 18951, 18952, 18953, 18954,\n",
      "       18955, 18956, 18957, 18958, 18959, 18943, 18944, 18945, 18946,\n",
      "       18947, 18948, 18949, 18950, 18951, 18952, 18953, 18954, 18955,\n",
      "       18956, 18957, 18958, 18959, 18960, 18943, 18944, 18945, 18946,\n",
      "       18947, 18948, 18949, 18950, 18951, 18952, 18953, 18954, 18955,\n",
      "       18956, 18957, 18958, 18959, 18960, 18943, 18944, 18945, 18946,\n",
      "       18947, 18948, 18949, 18950, 18951, 18952, 18953, 18954, 18955,\n",
      "       18956, 18957, 18958, 18959, 18960, 18961, 18942, 18943, 18944,\n",
      "       18945, 18946, 18947, 18948, 18949, 18950, 18951, 18952, 18953,\n",
      "       18954, 18955, 18956, 18957, 18958, 18959, 18960, 18961, 18942,\n",
      "       18943, 18944, 18945, 18946, 18947, 18948, 18949, 18950, 18951,\n",
      "       18952, 18953, 18954, 18955, 18956, 18957, 18958, 18959, 18960,\n",
      "       18961, 18942, 18943, 18944, 18945, 18946, 18947, 18948, 18949,\n",
      "       18950, 18951, 18952, 18953, 18954, 18955, 18956, 18957, 18958,\n",
      "       18959, 18960, 18961, 18942, 18943, 18944, 18945, 18946, 18947,\n",
      "       18948, 18949, 18950, 18951, 18952, 18953, 18954, 18955, 18956,\n",
      "       18957, 18958, 18959, 18960, 18961, 18942, 18943, 18944, 18945,\n",
      "       18946, 18947, 18948, 18949, 18950, 18951, 18952, 18953, 18954,\n",
      "       18955, 18956, 18957, 18958, 18959, 18960, 18961, 18942, 18943,\n",
      "       18944, 18945, 18946, 18947, 18948, 18949, 18950, 18951, 18952,\n",
      "       18953, 18954, 18955, 18956, 18957, 18958, 18959, 18960, 18961,\n",
      "       18943, 18944, 18945, 18946, 18947, 18948, 18949, 18950, 18951,\n",
      "       18952, 18953, 18954, 18955, 18956, 18957, 18958, 18959, 18960,\n",
      "       18943, 18944, 18945, 18946, 18947, 18948, 18949, 18950, 18951,\n",
      "       18952, 18953, 18954, 18955, 18956, 18957, 18958, 18959, 18960,\n",
      "       18944, 18945, 18946, 18947, 18948, 18949, 18950, 18951, 18952,\n",
      "       18953, 18954, 18955, 18956, 18957, 18958, 18959, 18945, 18946,\n",
      "       18947, 18948, 18949, 18950, 18951, 18952, 18953, 18954, 18955,\n",
      "       18956, 18957, 18958, 18946, 18947, 18948, 18949, 18950, 18951,\n",
      "       18952, 18953, 18954, 18955, 18956, 18957, 18948, 18949, 18950,\n",
      "       18951, 18952, 18953, 18954, 18955, 18951, 18952]))\n"
     ]
    },
    {
     "ename": "TypeError",
     "evalue": "ufunc 'bitwise_or' not supported for the input types, and the inputs could not be safely coerced to any supported types according to the casting rule ''safe''",
     "output_type": "error",
     "traceback": [
      "\u001b[0;31m---------------------------------------------------------------------------\u001b[0m",
      "\u001b[0;31mTypeError\u001b[0m                                 Traceback (most recent call last)",
      "Cell \u001b[0;32mIn[60], line 5\u001b[0m\n\u001b[1;32m      3\u001b[0m header \u001b[38;5;241m=\u001b[39m fits\u001b[38;5;241m.\u001b[39mgetheader(ignites_path\u001b[38;5;241m+\u001b[39m\u001b[38;5;124m\"\u001b[39m\u001b[38;5;124mmosaic_8um_reprojected_to_500um.fits\u001b[39m\u001b[38;5;124m\"\u001b[39m)\n\u001b[1;32m      4\u001b[0m image_shape \u001b[38;5;241m=\u001b[39m  spitzer_8um_data\u001b[38;5;241m.\u001b[39mshape\n\u001b[0;32m----> 5\u001b[0m mask \u001b[38;5;241m=\u001b[39m ds9_to_mask(region_path\u001b[38;5;241m+\u001b[39mregion_file, header, image_shape)\n",
      "Cell \u001b[0;32mIn[59], line 39\u001b[0m, in \u001b[0;36mds9_to_mask\u001b[0;34m(ds9_file, fits_header, image_shape)\u001b[0m\n\u001b[1;32m     37\u001b[0m             ellipse \u001b[38;5;241m=\u001b[39m EllipsePixelRegion(PixCoord(\u001b[38;5;241m*\u001b[39mpix_center), pix_radius, pix_radius)\n\u001b[1;32m     38\u001b[0m             \u001b[38;5;28mprint\u001b[39m(np\u001b[38;5;241m.\u001b[39mwhere(ellipse\u001b[38;5;241m.\u001b[39mto_mask()\u001b[38;5;241m.\u001b[39mto_image(image_shape)))\n\u001b[0;32m---> 39\u001b[0m             mask \u001b[38;5;241m|\u001b[39m\u001b[38;5;241m=\u001b[39m ellipse\u001b[38;5;241m.\u001b[39mto_mask()\u001b[38;5;241m.\u001b[39mto_image(image_shape)  \u001b[38;5;66;03m# Overlay mask\u001b[39;00m\n\u001b[1;32m     41\u001b[0m \u001b[38;5;28;01mreturn\u001b[39;00m mask\n",
      "\u001b[0;31mTypeError\u001b[0m: ufunc 'bitwise_or' not supported for the input types, and the inputs could not be safely coerced to any supported types according to the casting rule ''safe''"
     ]
    }
   ],
   "source": [
    "region_path = \"/Users/hph/Dropbox/astrophys/IGNITES/sf_tracer_regions/\"\n",
    "region_file = \"molinari_2016_70micron.reg\"\n",
    "header = fits.getheader(ignites_path+\"mosaic_8um_reprojected_to_500um.fits\")\n",
    "image_shape =  spitzer_8um_data.shape\n",
    "mask = ds9_to_mask(region_path+region_file, header, image_shape)"
   ]
  },
  {
   "cell_type": "code",
   "execution_count": null,
   "id": "0662a3b1-828d-4e80-8972-92aa509d3b25",
   "metadata": {},
   "outputs": [],
   "source": []
  },
  {
   "cell_type": "code",
   "execution_count": 33,
   "id": "1bb59e1c-f850-4400-9183-3db5a60d42e3",
   "metadata": {},
   "outputs": [
    {
     "name": "stderr",
     "output_type": "stream",
     "text": [
      "/var/folders/5j/kk60b8j15ljg_0ddrg10l6100000gn/T/ipykernel_91370/33132519.py:17: RuntimeWarning: invalid value encountered in log1p\n",
      "  log_data = np.log1p(data)\n"
     ]
    }
   ],
   "source": [
    "### Now let's normalize the data with log-scale and z-score normalization\n",
    "\n",
    "### WISE mosaics: \n",
    "wise_3um_norm = normalize_flux(wise_3um_data)\n",
    "wise_5um_norm = normalize_flux(wise_5um_data)\n",
    "wise_12um_norm = normalize_flux(wise_12um_data)\n",
    "wise_22um_norm = normalize_flux(wise_22um_data)\n",
    "\n",
    "### Spitzer mosaics:\n",
    "spitzer_8um_norm = normalize_flux(spitzer_8um_data)\n",
    "spitzer_24um_norm = normalize_flux(spitzer_24um_data)\n",
    "\n",
    "### Herschel mosaics:\n",
    "herschel_70um_norm = normalize_flux(herschel_70um_data)\n",
    "herschel_160um_norm = normalize_flux(herschel_160um_data)\n",
    "herschel_250um_norm = normalize_flux(herschel_250um_data)\n",
    "herschel_500um_norm = normalize_flux(herschel_500um_data)"
   ]
  },
  {
   "cell_type": "code",
   "execution_count": null,
   "id": "413171f1-add9-43cb-9769-36b0e5a747bb",
   "metadata": {},
   "outputs": [],
   "source": []
  },
  {
   "cell_type": "code",
   "execution_count": null,
   "id": "64caee7c-d692-431b-9ab2-951a2d9e2b51",
   "metadata": {},
   "outputs": [],
   "source": []
  },
  {
   "cell_type": "code",
   "execution_count": null,
   "id": "5bd3e57b-7699-42d0-82ec-278822852f7a",
   "metadata": {},
   "outputs": [],
   "source": []
  },
  {
   "cell_type": "code",
   "execution_count": null,
   "id": "e6e4552d-49d2-4e54-8923-0b3d71f0c085",
   "metadata": {},
   "outputs": [],
   "source": []
  }
 ],
 "metadata": {
  "kernelspec": {
   "display_name": "Python 3 (ipykernel)",
   "language": "python",
   "name": "python3"
  },
  "language_info": {
   "codemirror_mode": {
    "name": "ipython",
    "version": 3
   },
   "file_extension": ".py",
   "mimetype": "text/x-python",
   "name": "python",
   "nbconvert_exporter": "python",
   "pygments_lexer": "ipython3",
   "version": "3.11.11"
  }
 },
 "nbformat": 4,
 "nbformat_minor": 5
}
