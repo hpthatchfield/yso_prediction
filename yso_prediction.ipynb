{
 "cells": [
  {
   "cell_type": "code",
   "execution_count": 12,
   "id": "3acfed18-5cd9-4b21-a877-2d7ecf6a5cf4",
   "metadata": {},
   "outputs": [],
   "source": [
    "import numpy as np\n",
    "import matplotlib.pyplot as plt\n",
    "import cmasher as cm\n",
    "import torch \n",
    "from astropy.io import fits\n"
   ]
  },
  {
   "cell_type": "code",
   "execution_count": 7,
   "id": "4a68628c-d0b6-4246-a574-b803b930e6dc",
   "metadata": {},
   "outputs": [
    {
     "name": "stdout",
     "output_type": "stream",
     "text": [
      "Collecting astropy\n",
      "  Downloading astropy-7.0.1-cp311-cp311-macosx_10_9_x86_64.whl.metadata (10 kB)\n",
      "Requirement already satisfied: numpy>=1.23.2 in /opt/anaconda3/envs/sklearn-env/lib/python3.11/site-packages (from astropy) (1.26.4)\n",
      "Collecting pyerfa>=2.0.1.1 (from astropy)\n",
      "  Downloading pyerfa-2.0.1.5-cp39-abi3-macosx_10_9_x86_64.whl.metadata (5.7 kB)\n",
      "Collecting astropy-iers-data>=0.2025.1.31.12.41.4 (from astropy)\n",
      "  Downloading astropy_iers_data-0.2025.3.3.0.34.45-py3-none-any.whl.metadata (5.1 kB)\n",
      "Requirement already satisfied: PyYAML>=6.0.0 in /opt/anaconda3/envs/sklearn-env/lib/python3.11/site-packages (from astropy) (6.0.2)\n",
      "Requirement already satisfied: packaging>=22.0.0 in /opt/anaconda3/envs/sklearn-env/lib/python3.11/site-packages (from astropy) (24.2)\n",
      "Downloading astropy-7.0.1-cp311-cp311-macosx_10_9_x86_64.whl (6.6 MB)\n",
      "\u001b[2K   \u001b[90m━━━━━━━━━━━━━━━━━━━━━━━━━━━━━━━━━━━━━━━━\u001b[0m \u001b[32m6.6/6.6 MB\u001b[0m \u001b[31m7.7 MB/s\u001b[0m eta \u001b[36m0:00:00\u001b[0ma \u001b[36m0:00:01\u001b[0m\n",
      "\u001b[?25hDownloading astropy_iers_data-0.2025.3.3.0.34.45-py3-none-any.whl (1.9 MB)\n",
      "\u001b[2K   \u001b[90m━━━━━━━━━━━━━━━━━━━━━━━━━━━━━━━━━━━━━━━━\u001b[0m \u001b[32m1.9/1.9 MB\u001b[0m \u001b[31m8.2 MB/s\u001b[0m eta \u001b[36m0:00:00\u001b[0mta \u001b[36m0:00:01\u001b[0m\n",
      "Downloading pyerfa-2.0.1.5-cp39-abi3-macosx_10_9_x86_64.whl (341 kB)\n",
      "Installing collected packages: pyerfa, astropy-iers-data, astropy\n",
      "Successfully installed astropy-7.0.1 astropy-iers-data-0.2025.3.3.0.34.45 pyerfa-2.0.1.5\n"
     ]
    }
   ],
   "source": [
    "!pip install astropy"
   ]
  },
  {
   "cell_type": "code",
   "execution_count": 23,
   "id": "ce3f1de5-4a8f-49e2-a6ce-75652d47b742",
   "metadata": {},
   "outputs": [
    {
     "name": "stdout",
     "output_type": "stream",
     "text": [
      "(2800, 19000) (2800, 19000) (2800, 19000)\n"
     ]
    }
   ],
   "source": [
    "### Loading in the data as 2d arrays from FITS files using astropy utility\n",
    "\n",
    "\n",
    "### WISE mosaics: \n",
    "wise_path = \"/Users/hph/Dropbox/astrophys/IGNITES/data/IGNITES_regrid_reconvolve/wise_mosaics/\"\n",
    "wise_3um_data = fits.open(wise_path+'mosaic_3um_reprojected_to_500um.fits')[0].data\n",
    "wise_5um_data = fits.open(wise_path+'mosaic_5um_reprojected_to_500um.fits')[0].data\n",
    "wise_12um_data = fits.open(wise_path+'mosaic_12um_reprojected_to_500um.fits')[0].data\n",
    "wise_22um_data = fits.open(wise_path+'mosaic_22um_reprojected_to_500um.fits')[0].data\n",
    "\n",
    "\n",
    "### Other mosaic data path:\n",
    "ignites_path = \"/Users/hph/Dropbox/astrophys/IGNITES/data/IGNITES_regrid_reconvolve/\"\n",
    "\n",
    "### Spitzer mosaics:\n",
    "spitzer_8um_data = fits.open(ignites_path+\"mosaic_8um_reprojected_to_500um.fits\")[0].data\n",
    "spitzer_8um_data = fits.open(ignites_path+\"mosaic_24um_reprojected_to_500um.fits\")[0].data\n",
    "\n",
    "### Herschel mosaics:\n",
    "herschel_70um_data = fits.open(ignites_path+\"mosaic_70um_reprojected_to_500um.fits\")[0].data\n",
    "herschel_160um_data = fits.open(ignites_path+\"mosaic_160um_reprojected_to_500um.fits\")[0].data\n",
    "herschel_250um_data = fits.open(ignites_path+\"mosaic_250um_reprojected_to_500um.fits\")[0].data\n",
    "herschel_500um_data = fits.open(ignites_path+\"mosaic_500um_reprojected_to_500um.fits\")[0].data\n",
    "\n",
    "\n",
    "print(wise_3um_data.shape,spitzer_8um_data.shape, herschel_160um_data.shape)\n"
   ]
  },
  {
   "cell_type": "code",
   "execution_count": 10,
   "id": "5edebfb4-42e1-4341-aa12-f343265067df",
   "metadata": {},
   "outputs": [],
   "source": [
    "import numpy as np\n",
    "\n",
    "def normalize_flux(data):\n",
    "    \"\"\"\n",
    "    Normalize an image while preserving astrophysical structures.\n",
    "\n",
    "    Parameters:\n",
    "    - data (numpy.ndarray): A 2D array  \n",
    "      where each slice represents a flux map in a different wavelength band.\n",
    "\n",
    "    Returns:\n",
    "    - normalized_cube (numpy.ndarray): The normalized image cube.\n",
    "    \"\"\"\n",
    "\n",
    "    ### Apply log scaling to preserve dynamic range during normalization\n",
    "    ### Adding 1 to avoid log(0) issues, as flux values may include zeroes\n",
    "    log_data = np.log1p(data)  \n",
    "\n",
    "    ### Compute the mean and standard deviation of the data\n",
    "    ### This ensures that different wavelengths are treated comparably (should we do this)\n",
    "    mean_data = np.mean(log_data)\n",
    "    std_data = np.std(log_data) \n",
    "\n",
    "    ### Z-score normalization\n",
    "    ### This standardizes the log-transformed flux values to have mean=0 and std=1 per band\n",
    "    normalized_data = (log_data - mean_data) / std_data\n",
    "\n",
    "    return normalized_data\n",
    "\n"
   ]
  },
  {
   "cell_type": "code",
   "execution_count": null,
   "id": "cf81fbf6-11e8-4b79-8e40-016e8b2bf54f",
   "metadata": {},
   "outputs": [],
   "source": [
    "### Now we need to create labels from the YSO data. For now let's start with det"
   ]
  },
  {
   "cell_type": "code",
   "execution_count": null,
   "id": "1bb59e1c-f850-4400-9183-3db5a60d42e3",
   "metadata": {},
   "outputs": [],
   "source": []
  },
  {
   "cell_type": "code",
   "execution_count": null,
   "id": "413171f1-add9-43cb-9769-36b0e5a747bb",
   "metadata": {},
   "outputs": [],
   "source": []
  },
  {
   "cell_type": "code",
   "execution_count": null,
   "id": "64caee7c-d692-431b-9ab2-951a2d9e2b51",
   "metadata": {},
   "outputs": [],
   "source": []
  },
  {
   "cell_type": "code",
   "execution_count": null,
   "id": "5bd3e57b-7699-42d0-82ec-278822852f7a",
   "metadata": {},
   "outputs": [],
   "source": []
  },
  {
   "cell_type": "code",
   "execution_count": null,
   "id": "e6e4552d-49d2-4e54-8923-0b3d71f0c085",
   "metadata": {},
   "outputs": [],
   "source": []
  }
 ],
 "metadata": {
  "kernelspec": {
   "display_name": "Python 3 (ipykernel)",
   "language": "python",
   "name": "python3"
  },
  "language_info": {
   "codemirror_mode": {
    "name": "ipython",
    "version": 3
   },
   "file_extension": ".py",
   "mimetype": "text/x-python",
   "name": "python",
   "nbconvert_exporter": "python",
   "pygments_lexer": "ipython3",
   "version": "3.11.11"
  }
 },
 "nbformat": 4,
 "nbformat_minor": 5
}
